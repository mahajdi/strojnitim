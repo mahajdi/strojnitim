{
 "cells": [
  {
   "cell_type": "markdown",
   "metadata": {},
   "source": [
    "# Gaussian Naive Bayes Classifier"
   ]
  },
  {
   "cell_type": "markdown",
   "metadata": {},
   "source": [
    "Neke od biblioteka i unos podataka:"
   ]
  },
  {
   "cell_type": "code",
   "execution_count": 1,
   "metadata": {},
   "outputs": [],
   "source": [
    "import pandas as pd\n",
    "import numpy as np\n",
    "from sklearn.model_selection import train_test_split\n",
    "from sklearn.naive_bayes import GaussianNB\n",
    "from sklearn.metrics import confusion_matrix\n",
    "from sklearn.metrics import precision_recall_fscore_support\n",
    "import matplotlib.pyplot as plt\n",
    "import seaborn as sns\n",
    "sns.set()"
   ]
  },
  {
   "cell_type": "code",
   "execution_count": 2,
   "metadata": {},
   "outputs": [],
   "source": [
    "data=pd.read_csv(\"C:/Users/ekodren/Desktop/faks/strojno/projekt/creditcard.csv\")"
   ]
  },
  {
   "cell_type": "markdown",
   "metadata": {},
   "source": [
    "Skaliranje neskaliranih značajki Time i Amount:"
   ]
  },
  {
   "cell_type": "code",
   "execution_count": 3,
   "metadata": {},
   "outputs": [],
   "source": [
    "from sklearn.preprocessing import StandardScaler, RobustScaler\n",
    "std_scaler = StandardScaler()\n",
    "rob_scaler = RobustScaler()\n",
    "data['scaled_amount'] = rob_scaler.fit_transform(data['Amount'].values.reshape(-1,1))\n",
    "data['scaled_time'] = rob_scaler.fit_transform(data['Time'].values.reshape(-1,1))\n",
    "data.drop(['Time','Amount'], axis=1, inplace=True)"
   ]
  },
  {
   "cell_type": "code",
   "execution_count": 4,
   "metadata": {},
   "outputs": [],
   "source": [
    "scaled_amount = data['scaled_amount']\n",
    "scaled_time = data['scaled_time']\n",
    "\n",
    "data.drop(['scaled_amount', 'scaled_time'], axis=1, inplace=True)\n",
    "data.insert(0, 'scaled_amount', scaled_amount)\n",
    "data.insert(1, 'scaled_time', scaled_time)"
   ]
  },
  {
   "cell_type": "code",
   "execution_count": 5,
   "metadata": {},
   "outputs": [],
   "source": [
    "X_all=data.drop(columns=\"Class\")\n",
    "y_all=data['Class']\n",
    "number_of_frauds=sum(y_all)\n",
    "class_names = ['not_fraud', 'fraud']"
   ]
  },
  {
   "cell_type": "markdown",
   "metadata": {},
   "source": [
    "Funkcije za ispis konfuzijske matrice:"
   ]
  },
  {
   "cell_type": "code",
   "execution_count": 6,
   "metadata": {},
   "outputs": [],
   "source": [
    "def ConfMatrix(y_test, y_pred):\n",
    "    matrix = confusion_matrix(y_test, y_pred)\n",
    "    dataframe = pd.DataFrame(matrix, index=class_names, columns=class_names)\n",
    "    sns.heatmap(dataframe, annot=True, cbar=None, cmap=\"Blues\", fmt = 'g')\n",
    "    plt.title(\"Confusion Matrix\"), plt.tight_layout()\n",
    "    plt.ylabel(\"True Class\"), plt.xlabel(\"Predicted Class\")\n",
    "    plt.show()"
   ]
  },
  {
   "cell_type": "markdown",
   "metadata": {},
   "source": [
    "Podjela na test set i train set u omjeru 30:70"
   ]
  },
  {
   "cell_type": "code",
   "execution_count": 7,
   "metadata": {},
   "outputs": [],
   "source": [
    "X_train, X_test, y_train, y_test = train_test_split(X_all, y_all, test_size=0.3)"
   ]
  },
  {
   "cell_type": "markdown",
   "metadata": {},
   "source": [
    "# Undersampling metoda"
   ]
  },
  {
   "cell_type": "markdown",
   "metadata": {},
   "source": [
    "Prvo undersampling metodom balansiramo train set podataka:"
   ]
  },
  {
   "cell_type": "code",
   "execution_count": 8,
   "metadata": {},
   "outputs": [],
   "source": [
    "from imblearn.under_sampling import RandomUnderSampler\n",
    "rus = RandomUnderSampler(random_state=0)\n",
    "X_train_us, y_train_us = rus.fit_resample(X_train, y_train)"
   ]
  },
  {
   "cell_type": "markdown",
   "metadata": {},
   "source": [
    "Treniranje Gaussian Naive Bayesovog klasifikatora sa 15 različitih parametara:"
   ]
  },
  {
   "cell_type": "code",
   "execution_count": 61,
   "metadata": {},
   "outputs": [],
   "source": [
    "br_param=15\n",
    "parameters_us = np.linspace(1e-20, 1e-1, num=br_param) \n",
    "prec_us=np.empty(br_param); recall_us=np.empty(br_param); f_score_us=np.empty(br_param)\n",
    "for i in range(br_param):\n",
    "    gnb = GaussianNB(var_smoothing=parameters_us[i])\n",
    "    gnb.fit(X_train_us, y_train_us)\n",
    "    y_pred= gnb.predict(X_test)\n",
    "    prec_us[i],recall_us[i],f_score_us[i],_=precision_recall_fscore_support(y_test, y_pred, average='binary')"
   ]
  },
  {
   "cell_type": "markdown",
   "metadata": {},
   "source": [
    "Grafčki prikaz rezultata:\n"
   ]
  },
  {
   "cell_type": "code",
   "execution_count": 62,
   "metadata": {},
   "outputs": [
    {
     "data": {
      "text/plain": [
       "<matplotlib.legend.Legend at 0x87bb955908>"
      ]
     },
     "execution_count": 62,
     "metadata": {},
     "output_type": "execute_result"
    },
    {
     "data": {
      "image/png": "[encoded data removed]",
      "text/plain": [
       "<Figure size 432x288 with 1 Axes>"
      ]
     },
     "metadata": {
      "needs_background": "light"
     },
     "output_type": "display_data"
    }
   ],
   "source": [
    "plt.figure(1)\n",
    "plt.plot(parameters_us, recall_us,marker='o',color='b',label='recall')\n",
    "plt.plot(parameters_us, f_score_us,marker='o',color='r', label='f score')\n",
    "plt.plot(parameters_us, prec_us, marker='o',color='g', label='precision')\n",
    "plt.xlabel('parameters')\n",
    "plt.ylabel('mjera')\n",
    "plt.title(\"Random Undersampling\")\n",
    "plt.legend()\n"
   ]
  },
  {
   "cell_type": "markdown",
   "metadata": {},
   "source": [
    "GridSearch metodom tražimo najbolje parametre:"
   ]
  },
  {
   "cell_type": "code",
   "execution_count": 8,
   "metadata": {},
   "outputs": [],
   "source": [
    "from imblearn.pipeline import Pipeline\n",
    "from sklearn.model_selection import GridSearchCV\n",
    "from sklearn.metrics import precision_score, recall_score, f1_score"
   ]
  },
  {
   "cell_type": "code",
   "execution_count": 59,
   "metadata": {
    "scrolled": true
   },
   "outputs": [
    {
     "name": "stdout",
     "output_type": "stream",
     "text": [
      "Fitting 2 folds for each of 50 candidates, totalling 100 fits\n"
     ]
    },
    {
     "name": "stderr",
     "output_type": "stream",
     "text": [
      "[Parallel(n_jobs=3)]: Using backend LokyBackend with 3 concurrent workers.\n",
      "[Parallel(n_jobs=3)]: Done   2 tasks      | elapsed:   29.3s\n",
      "[Parallel(n_jobs=3)]: Done   7 tasks      | elapsed:   31.1s\n",
      "[Parallel(n_jobs=3)]: Done  12 tasks      | elapsed:   32.1s\n",
      "[Parallel(n_jobs=3)]: Done  19 tasks      | elapsed:   34.6s\n",
      "[Parallel(n_jobs=3)]: Done  26 tasks      | elapsed:   36.6s\n",
      "[Parallel(n_jobs=3)]: Done  35 tasks      | elapsed:   39.2s\n",
      "[Parallel(n_jobs=3)]: Done  44 tasks      | elapsed:   41.8s\n",
      "[Parallel(n_jobs=3)]: Done  55 tasks      | elapsed:   44.9s\n",
      "[Parallel(n_jobs=3)]: Done  66 tasks      | elapsed:   48.1s\n",
      "[Parallel(n_jobs=3)]: Done  79 tasks      | elapsed:   51.9s\n",
      "[Parallel(n_jobs=3)]: Done  92 tasks      | elapsed:   56.3s\n",
      "[Parallel(n_jobs=3)]: Done 100 out of 100 | elapsed:   58.8s finished\n"
     ]
    }
   ],
   "source": [
    "br_param_var=10\n",
    "br_param_rus=5\n",
    "pipe=Pipeline([('rus',RandomUnderSampler()),('classifier', GaussianNB())])\n",
    "rus_param_range=np.linspace(0.05, 0.2, num=br_param_var)\n",
    "param_range=np.linspace(0.02, 0.08, num=br_param_rus)\n",
    "param_grid=[{'classifier__var_smoothing':param_range,'rus__sampling_strategy':rus_param_range}]\n",
    "gs=GridSearchCV(estimator=pipe, param_grid=param_grid,scoring='recall',cv=2, n_jobs=1, verbose=10)\n",
    "gs=gs.fit(X_train,y_train)"
   ]
  },
  {
   "cell_type": "code",
   "execution_count": 63,
   "metadata": {},
   "outputs": [
    {
     "name": "stdout",
     "output_type": "stream",
     "text": [
      "{'classifier__var_smoothing': 0.02, 'rus__sampling_strategy': 0.16666666666666669}\n"
     ]
    },
    {
     "data": {
      "image/png": "[encoded data removed]",
      "text/plain": [
       "<Figure size 432x288 with 1 Axes>"
      ]
     },
     "metadata": {
      "needs_background": "light"
     },
     "output_type": "display_data"
    },
    {
     "name": "stdout",
     "output_type": "stream",
     "text": [
      "Recall:  0.8169934640522876\n",
      "Precison:  0.06709608158883522\n",
      "F-score:  0.12400793650793653\n"
     ]
    }
   ],
   "source": [
    "print(gs.best_params_)\n",
    "gs_best_estimator=gs.best_estimator_\n",
    "bla=gs_best_estimator.fit(X_train,y_train)\n",
    "y_pred=bla.predict(X_test)\n",
    "ConfMatrix(y_test,y_pred)\n",
    "p,r,f,_=precision_recall_fscore_support(y_test, y_pred, average='binary')\n",
    "print(\"Recall: \",r)\n",
    "print(\"Precison: \",p)\n",
    "print(\"F-score: \",f)"
   ]
  },
  {
   "cell_type": "markdown",
   "metadata": {},
   "source": [
    "# Oversampling metoda"
   ]
  },
  {
   "cell_type": "markdown",
   "metadata": {},
   "source": [
    "Na isti način kao i ranije, prvo oversampling metodom balansiramo set podataka, dijelimo na train set i test set u omjeru 70:30, te zatim treniramo Gaussian Naive Bayesovu metodu na različitim parametarima i to prikazujemo grafički, a zatim metodu optimiziramo GridSearchom:"
   ]
  },
  {
   "cell_type": "code",
   "execution_count": 8,
   "metadata": {},
   "outputs": [],
   "source": [
    "from imblearn.over_sampling import RandomOverSampler\n",
    "ros = RandomOverSampler(random_state=0)\n",
    "X_train_os, y_train_os = ros.fit_sample(X_train, y_train)"
   ]
  },
  {
   "cell_type": "code",
   "execution_count": 57,
   "metadata": {},
   "outputs": [],
   "source": [
    "br_param=10\n",
    "parameters_os = np.linspace(1e-17, 1e-1, num=br_param) \n",
    "prec_os=np.empty(br_param); recall_os=np.empty(br_param); f_score_os=np.empty(br_param)\n",
    "for i in range(10):\n",
    "    gnb = GaussianNB(var_smoothing=parameters_os[i])\n",
    "    gnb.fit(X_train_os, y_train_os)\n",
    "    y_pred= gnb.predict(X_test)\n",
    "    prec_os[i],recall_os[i],f_score_os[i],_=precision_recall_fscore_support(y_test, y_pred, average='binary')\n",
    "  "
   ]
  },
  {
   "cell_type": "code",
   "execution_count": 58,
   "metadata": {},
   "outputs": [
    {
     "data": {
      "text/plain": [
       "<matplotlib.legend.Legend at 0x87b58f31d0>"
      ]
     },
     "execution_count": 58,
     "metadata": {},
     "output_type": "execute_result"
    },
    {
     "data": {
      "image/png": "[encoded data removed]",
      "text/plain": [
       "<Figure size 432x288 with 1 Axes>"
      ]
     },
     "metadata": {
      "needs_background": "light"
     },
     "output_type": "display_data"
    }
   ],
   "source": [
    "plt.figure(2)\n",
    "plt.plot(parameters_os, recall_os,marker='o',color='b',label='recall')\n",
    "plt.plot(parameters_os, f_score_os, marker='o',color='r', label='f score')\n",
    "plt.plot(parameters_os, prec_os, marker='o',color='g', label='precision')\n",
    "plt.xlabel('parameters')\n",
    "plt.ylabel('mjera')\n",
    "plt.title(\"Random Oversampling\")\n",
    "plt.legend()"
   ]
  },
  {
   "cell_type": "code",
   "execution_count": 72,
   "metadata": {},
   "outputs": [
    {
     "name": "stdout",
     "output_type": "stream",
     "text": [
      "Fitting 2 folds for each of 50 candidates, totalling 100 fits\n"
     ]
    },
    {
     "name": "stderr",
     "output_type": "stream",
     "text": [
      "[Parallel(n_jobs=3)]: Using backend LokyBackend with 3 concurrent workers.\n",
      "[Parallel(n_jobs=3)]: Done   2 tasks      | elapsed:    1.4s\n",
      "[Parallel(n_jobs=3)]: Done   7 tasks      | elapsed:    3.5s\n",
      "[Parallel(n_jobs=3)]: Done  12 tasks      | elapsed:    5.4s\n",
      "[Parallel(n_jobs=3)]: Done  19 tasks      | elapsed:    8.6s\n",
      "[Parallel(n_jobs=3)]: Done  26 tasks      | elapsed:   11.6s\n",
      "[Parallel(n_jobs=3)]: Done  35 tasks      | elapsed:   15.5s\n",
      "[Parallel(n_jobs=3)]: Done  44 tasks      | elapsed:   19.8s\n",
      "[Parallel(n_jobs=3)]: Done  55 tasks      | elapsed:   24.9s\n",
      "[Parallel(n_jobs=3)]: Done  66 tasks      | elapsed:   29.5s\n",
      "[Parallel(n_jobs=3)]: Done  79 tasks      | elapsed:   35.2s\n",
      "[Parallel(n_jobs=3)]: Done  92 tasks      | elapsed:   40.6s\n",
      "[Parallel(n_jobs=3)]: Done 100 out of 100 | elapsed:   43.6s finished\n"
     ]
    }
   ],
   "source": [
    "br_param_rus=5\n",
    "br_param_var=10\n",
    "pipe=Pipeline([('ros',RandomOverSampler()),('classifier', GaussianNB())])\n",
    "rus_param_range=np.linspace(0.07, 0.2, num=br_param_rus)\n",
    "param_range=np.linspace(0.01,0.2, num=br_param_var)\n",
    "param_grid=[{'classifier__var_smoothing':param_range,'ros__sampling_strategy':rus_param_range}]\n",
    "gs=GridSearchCV(estimator=pipe, param_grid=param_grid,scoring='recall',cv=2, n_jobs=1, verbose=10)\n",
    "gs=gs.fit(X_train,y_train)"
   ]
  },
  {
   "cell_type": "code",
   "execution_count": 73,
   "metadata": {},
   "outputs": [
    {
     "name": "stdout",
     "output_type": "stream",
     "text": [
      "{'classifier__var_smoothing': 0.01, 'ros__sampling_strategy': 0.07}\n"
     ]
    },
    {
     "data": {
      "image/png": "[encoded data removed]",
      "text/plain": [
       "<Figure size 432x288 with 1 Axes>"
      ]
     },
     "metadata": {
      "needs_background": "light"
     },
     "output_type": "display_data"
    },
    {
     "name": "stdout",
     "output_type": "stream",
     "text": [
      "Recall:  0.8235294117647058\n",
      "Precison:  0.07050923335198657\n",
      "F-score:  0.12989690721649486\n"
     ]
    }
   ],
   "source": [
    "print(gs.best_params_)\n",
    "gs_best_estimator=gs.best_estimator_\n",
    "bla=gs_best_estimator.fit(X_train,y_train)\n",
    "y_pred=bla.predict(X_test)\n",
    "ConfMatrix(y_test,y_pred)\n",
    "p,r,f,_=precision_recall_fscore_support(y_test, y_pred, average='binary')\n",
    "print(\"Recall: \",r)\n",
    "print(\"Precison: \",p)\n",
    "print(\"F-score: \",f)"
   ]
  },
  {
   "cell_type": "markdown",
   "metadata": {},
   "source": [
    "# Tomek Links metoda"
   ]
  },
  {
   "cell_type": "code",
   "execution_count": 9,
   "metadata": {},
   "outputs": [],
   "source": [
    "from imblearn.under_sampling import TomekLinks\n",
    "tomekl = TomekLinks(random_state=0,n_jobs=1)\n",
    "X_train_tomekl, y_train_tomekl = tomekl.fit_sample(X_train, y_train)"
   ]
  },
  {
   "cell_type": "code",
   "execution_count": 12,
   "metadata": {},
   "outputs": [],
   "source": [
    "br_param=10\n",
    "parameters_tomekl = np.linspace(1e-19, 0.5, num=br_param) \n",
    "prec_tomekl=np.empty(br_param); recall_tomekl=np.empty(br_param); f_score_tomekl=np.empty(br_param)\n",
    "for i in range(10):\n",
    "    gnb = GaussianNB(var_smoothing=parameters_tomekl[i])\n",
    "    gnb.fit(X_train_tomekl, y_train_tomekl)\n",
    "    y_pred= gnb.predict(X_test)\n",
    "    prec_tomekl[i],recall_tomekl[i],f_score_tomekl[i],_=precision_recall_fscore_support(y_test, y_pred, average='binary')"
   ]
  },
  {
   "cell_type": "code",
   "execution_count": 13,
   "metadata": {},
   "outputs": [
    {
     "data": {
      "text/plain": [
       "<matplotlib.legend.Legend at 0xc907a927b8>"
      ]
     },
     "execution_count": 13,
     "metadata": {},
     "output_type": "execute_result"
    },
    {
     "data": {
      "image/png": "[encoded data removed]",
      "text/plain": [
       "<Figure size 432x288 with 1 Axes>"
      ]
     },
     "metadata": {
      "needs_background": "light"
     },
     "output_type": "display_data"
    }
   ],
   "source": [
    "plt.figure(2)\n",
    "plt.plot(parameters_tomekl, recall_tomekl,marker='o',color='b',label='recall')\n",
    "plt.plot(parameters_tomekl, f_score_tomekl, marker='o',color='r', label='f score')\n",
    "plt.plot(parameters_tomekl, prec_tomekl, marker='o',color='g', label='precision')\n",
    "plt.xlabel('parameters')\n",
    "plt.ylabel('mjera')\n",
    "plt.title(\"Tomek Links\")\n",
    "plt.legend()"
   ]
  },
  {
   "cell_type": "code",
   "execution_count": 14,
   "metadata": {},
   "outputs": [
    {
     "name": "stdout",
     "output_type": "stream",
     "text": [
      "Fitting 2 folds for each of 10 candidates, totalling 20 fits\n",
      "[CV] classifier__var_smoothing=0.01 ..................................\n"
     ]
    },
    {
     "name": "stderr",
     "output_type": "stream",
     "text": [
      "[Parallel(n_jobs=1)]: Using backend SequentialBackend with 1 concurrent workers.\n"
     ]
    },
    {
     "name": "stdout",
     "output_type": "stream",
     "text": [
      "[CV]  classifier__var_smoothing=0.01, score=0.813953488372093, total= 3.4min\n",
      "[CV] classifier__var_smoothing=0.01 ..................................\n"
     ]
    },
    {
     "name": "stderr",
     "output_type": "stream",
     "text": [
      "[Parallel(n_jobs=1)]: Done   1 out of   1 | elapsed:  3.4min remaining:    0.0s\n"
     ]
    },
    {
     "name": "stdout",
     "output_type": "stream",
     "text": [
      "[CV]  classifier__var_smoothing=0.01, score=0.8313953488372093, total= 4.7min\n"
     ]
    },
    {
     "name": "stderr",
     "output_type": "stream",
     "text": [
      "[Parallel(n_jobs=1)]: Done   2 out of   2 | elapsed:  8.1min remaining:    0.0s\n"
     ]
    },
    {
     "name": "stdout",
     "output_type": "stream",
     "text": [
      "[CV] classifier__var_smoothing=0.03111111111111111 ...................\n",
      "[CV]  classifier__var_smoothing=0.03111111111111111, score=0.8081395348837209, total= 3.6min\n",
      "[CV] classifier__var_smoothing=0.03111111111111111 ...................\n"
     ]
    },
    {
     "name": "stderr",
     "output_type": "stream",
     "text": [
      "[Parallel(n_jobs=1)]: Done   3 out of   3 | elapsed: 11.7min remaining:    0.0s\n"
     ]
    },
    {
     "name": "stdout",
     "output_type": "stream",
     "text": [
      "[CV]  classifier__var_smoothing=0.03111111111111111, score=0.8197674418604651, total= 3.3min\n",
      "[CV] classifier__var_smoothing=0.052222222222222225 ..................\n"
     ]
    },
    {
     "name": "stderr",
     "output_type": "stream",
     "text": [
      "[Parallel(n_jobs=1)]: Done   4 out of   4 | elapsed: 15.1min remaining:    0.0s\n"
     ]
    },
    {
     "name": "stdout",
     "output_type": "stream",
     "text": [
      "[CV]  classifier__var_smoothing=0.052222222222222225, score=0.8023255813953488, total= 3.6min\n",
      "[CV] classifier__var_smoothing=0.052222222222222225 ..................\n"
     ]
    },
    {
     "name": "stderr",
     "output_type": "stream",
     "text": [
      "[Parallel(n_jobs=1)]: Done   5 out of   5 | elapsed: 18.6min remaining:    0.0s\n"
     ]
    },
    {
     "name": "stdout",
     "output_type": "stream",
     "text": [
      "[CV]  classifier__var_smoothing=0.052222222222222225, score=0.813953488372093, total= 3.3min\n",
      "[CV] classifier__var_smoothing=0.07333333333333333 ...................\n"
     ]
    },
    {
     "name": "stderr",
     "output_type": "stream",
     "text": [
      "[Parallel(n_jobs=1)]: Done   6 out of   6 | elapsed: 22.0min remaining:    0.0s\n"
     ]
    },
    {
     "name": "stdout",
     "output_type": "stream",
     "text": [
      "[CV]  classifier__var_smoothing=0.07333333333333333, score=0.7732558139534884, total= 3.6min\n",
      "[CV] classifier__var_smoothing=0.07333333333333333 ...................\n"
     ]
    },
    {
     "name": "stderr",
     "output_type": "stream",
     "text": [
      "[Parallel(n_jobs=1)]: Done   7 out of   7 | elapsed: 25.6min remaining:    0.0s\n"
     ]
    },
    {
     "name": "stdout",
     "output_type": "stream",
     "text": [
      "[CV]  classifier__var_smoothing=0.07333333333333333, score=0.7906976744186046, total= 3.4min\n",
      "[CV] classifier__var_smoothing=0.09444444444444444 ...................\n"
     ]
    },
    {
     "name": "stderr",
     "output_type": "stream",
     "text": [
      "[Parallel(n_jobs=1)]: Done   8 out of   8 | elapsed: 28.9min remaining:    0.0s\n"
     ]
    },
    {
     "name": "stdout",
     "output_type": "stream",
     "text": [
      "[CV]  classifier__var_smoothing=0.09444444444444444, score=0.7558139534883721, total= 3.6min\n",
      "[CV] classifier__var_smoothing=0.09444444444444444 ...................\n"
     ]
    },
    {
     "name": "stderr",
     "output_type": "stream",
     "text": [
      "[Parallel(n_jobs=1)]: Done   9 out of   9 | elapsed: 32.5min remaining:    0.0s\n"
     ]
    },
    {
     "name": "stdout",
     "output_type": "stream",
     "text": [
      "[CV]  classifier__var_smoothing=0.09444444444444444, score=0.7616279069767442, total= 3.3min\n",
      "[CV] classifier__var_smoothing=0.11555555555555555 ...................\n",
      "[CV]  classifier__var_smoothing=0.11555555555555555, score=0.6686046511627907, total= 3.4min\n",
      "[CV] classifier__var_smoothing=0.11555555555555555 ...................\n",
      "[CV]  classifier__var_smoothing=0.11555555555555555, score=0.686046511627907, total= 3.3min\n",
      "[CV] classifier__var_smoothing=0.1366666666666667 ....................\n",
      "[CV]  classifier__var_smoothing=0.1366666666666667, score=0.6627906976744186, total= 3.5min\n",
      "[CV] classifier__var_smoothing=0.1366666666666667 ....................\n",
      "[CV]  classifier__var_smoothing=0.1366666666666667, score=0.6453488372093024, total= 3.3min\n",
      "[CV] classifier__var_smoothing=0.1577777777777778 ....................\n",
      "[CV]  classifier__var_smoothing=0.1577777777777778, score=0.6453488372093024, total= 3.5min\n",
      "[CV] classifier__var_smoothing=0.1577777777777778 ....................\n",
      "[CV]  classifier__var_smoothing=0.1577777777777778, score=0.627906976744186, total= 3.2min\n",
      "[CV] classifier__var_smoothing=0.1788888888888889 ....................\n",
      "[CV]  classifier__var_smoothing=0.1788888888888889, score=0.6395348837209303, total= 3.5min\n",
      "[CV] classifier__var_smoothing=0.1788888888888889 ....................\n",
      "[CV]  classifier__var_smoothing=0.1788888888888889, score=0.627906976744186, total= 3.4min\n",
      "[CV] classifier__var_smoothing=0.2 ...................................\n",
      "[CV]  classifier__var_smoothing=0.2, score=0.6046511627906976, total= 3.5min\n",
      "[CV] classifier__var_smoothing=0.2 ...................................\n",
      "[CV]  classifier__var_smoothing=0.2, score=0.5988372093023255, total= 3.4min\n"
     ]
    },
    {
     "name": "stderr",
     "output_type": "stream",
     "text": [
      "[Parallel(n_jobs=1)]: Done  20 out of  20 | elapsed: 70.0min finished\n"
     ]
    }
   ],
   "source": [
    "br_param_tomek=5\n",
    "br_param_var=10\n",
    "pipe=Pipeline([('tomek',TomekLinks()),('classifier', GaussianNB())])\n",
    "param_range=np.linspace(0.01,0.2, num=br_param_var)\n",
    "param_grid=[{'classifier__var_smoothing':param_range}]\n",
    "gs=GridSearchCV(estimator=pipe, param_grid=param_grid,scoring='recall',cv=2, n_jobs=1, verbose=10)\n",
    "gs=gs.fit(X_train,y_train)"
   ]
  },
  {
   "cell_type": "code",
   "execution_count": 15,
   "metadata": {},
   "outputs": [
    {
     "name": "stdout",
     "output_type": "stream",
     "text": [
      "{'classifier__var_smoothing': 0.01}\n"
     ]
    },
    {
     "data": {
      "image/png": "[encoded data removed]",
      "text/plain": [
       "<Figure size 432x288 with 1 Axes>"
      ]
     },
     "metadata": {
      "needs_background": "light"
     },
     "output_type": "display_data"
    },
    {
     "name": "stdout",
     "output_type": "stream",
     "text": [
      "Recall:  0.8445945945945946\n",
      "Precison:  0.07246376811594203\n",
      "F-score:  0.13347570742124934\n"
     ]
    }
   ],
   "source": [
    "print(gs.best_params_)\n",
    "gs_best_estimator=gs.best_estimator_\n",
    "bla=gs_best_estimator.fit(X_train,y_train)\n",
    "y_pred=bla.predict(X_test)\n",
    "ConfMatrix(y_test,y_pred)\n",
    "p,r,f,_=precision_recall_fscore_support(y_test, y_pred, average='binary')\n",
    "print(\"Recall: \",r)\n",
    "print(\"Precison: \",p)\n",
    "print(\"F-score: \",f)"
   ]
  }
 ],
 "metadata": {
  "kernelspec": {
   "display_name": "Python 3",
   "language": "python",
   "name": "python3"
  },
  "language_info": {
   "codemirror_mode": {
    "name": "ipython",
    "version": 3
   },
   "file_extension": ".py",
   "mimetype": "text/x-python",
   "name": "python",
   "nbconvert_exporter": "python",
   "pygments_lexer": "ipython3",
   "version": "3.7.1"
  }
 },
 "nbformat": 4,
 "nbformat_minor": 2
}
